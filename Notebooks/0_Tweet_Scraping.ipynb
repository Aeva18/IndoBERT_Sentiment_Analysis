{
  "cells": [
    {
      "cell_type": "markdown",
      "source": [
        "# Crawling Twitter Data based on **Search Keyword** Using `tweet-harvest`\n",
        "Last updated by Helmi Satria (helmisatria.com) on September 22, 2023\n",
        "\n",
        "Note: **For educational purposes only**\n"
      ],
      "metadata": {
        "id": "lAE7WPkQINAz"
      }
    },
    {
      "cell_type": "code",
      "execution_count": null,
      "metadata": {
        "collapsed": true,
        "id": "4UIL1x21P9rQ",
        "colab": {
          "base_uri": "https://localhost:8080/"
        },
        "outputId": "01b42042-5f80-4543-eef2-d87aeedc6dd2"
      },
      "outputs": [
        {
          "output_type": "stream",
          "name": "stdout",
          "text": [
            "Requirement already satisfied: pandas in /usr/local/lib/python3.10/dist-packages (1.5.3)\n",
            "Requirement already satisfied: python-dateutil>=2.8.1 in /usr/local/lib/python3.10/dist-packages (from pandas) (2.8.2)\n",
            "Requirement already satisfied: pytz>=2020.1 in /usr/local/lib/python3.10/dist-packages (from pandas) (2023.3.post1)\n",
            "Requirement already satisfied: numpy>=1.21.0 in /usr/local/lib/python3.10/dist-packages (from pandas) (1.23.5)\n",
            "Requirement already satisfied: six>=1.5 in /usr/local/lib/python3.10/dist-packages (from python-dateutil>=2.8.1->pandas) (1.16.0)\n",
            "Hit:1 http://security.ubuntu.com/ubuntu jammy-security InRelease\n",
            "Hit:2 https://cloud.r-project.org/bin/linux/ubuntu jammy-cran40/ InRelease\n",
            "Hit:3 https://developer.download.nvidia.com/compute/cuda/repos/ubuntu2204/x86_64  InRelease\n",
            "Hit:4 https://deb.nodesource.com/node_20.x nodistro InRelease\n",
            "Hit:5 http://archive.ubuntu.com/ubuntu jammy InRelease\n",
            "Hit:6 http://archive.ubuntu.com/ubuntu jammy-updates InRelease\n",
            "Hit:7 http://archive.ubuntu.com/ubuntu jammy-backports InRelease\n",
            "Hit:8 https://ppa.launchpadcontent.net/c2d4u.team/c2d4u4.0+/ubuntu jammy InRelease\n",
            "Hit:9 https://ppa.launchpadcontent.net/deadsnakes/ppa/ubuntu jammy InRelease\n",
            "Hit:10 https://ppa.launchpadcontent.net/graphics-drivers/ppa/ubuntu jammy InRelease\n",
            "Hit:11 https://ppa.launchpadcontent.net/ubuntugis/ppa/ubuntu jammy InRelease\n",
            "Reading package lists... Done\n",
            "Reading package lists... Done\n",
            "Building dependency tree... Done\n",
            "Reading state information... Done\n",
            "ca-certificates is already the newest version (20230311ubuntu0.22.04.1).\n",
            "curl is already the newest version (7.81.0-1ubuntu1.14).\n",
            "gnupg is already the newest version (2.2.27-3ubuntu2.1).\n",
            "0 upgraded, 0 newly installed, 0 to remove and 20 not upgraded.\n",
            "gpg: cannot open '/dev/tty': No such device or address\n",
            "curl: (23) Failed writing body\n",
            "deb [signed-by=/etc/apt/keyrings/nodesource.gpg] https://deb.nodesource.com/node_20.x nodistro main\n",
            "Hit:1 https://cloud.r-project.org/bin/linux/ubuntu jammy-cran40/ InRelease\n",
            "Hit:2 https://developer.download.nvidia.com/compute/cuda/repos/ubuntu2204/x86_64  InRelease\n",
            "Hit:3 https://deb.nodesource.com/node_20.x nodistro InRelease\n",
            "Hit:4 http://archive.ubuntu.com/ubuntu jammy InRelease\n",
            "Hit:5 http://security.ubuntu.com/ubuntu jammy-security InRelease\n",
            "Hit:6 http://archive.ubuntu.com/ubuntu jammy-updates InRelease\n",
            "Hit:7 http://archive.ubuntu.com/ubuntu jammy-backports InRelease\n",
            "Hit:8 https://ppa.launchpadcontent.net/c2d4u.team/c2d4u4.0+/ubuntu jammy InRelease\n",
            "Hit:9 https://ppa.launchpadcontent.net/deadsnakes/ppa/ubuntu jammy InRelease\n",
            "Hit:10 https://ppa.launchpadcontent.net/graphics-drivers/ppa/ubuntu jammy InRelease\n",
            "Hit:11 https://ppa.launchpadcontent.net/ubuntugis/ppa/ubuntu jammy InRelease\n",
            "Reading package lists... Done\n",
            "Reading package lists... Done\n",
            "Building dependency tree... Done\n",
            "Reading state information... Done\n",
            "nodejs is already the newest version (20.9.0-1nodesource1).\n",
            "0 upgraded, 0 newly installed, 0 to remove and 20 not upgraded.\n",
            "v20.9.0\n"
          ]
        }
      ],
      "source": [
        "# Import required Python package\n",
        "!pip install pandas\n",
        "\n",
        "# Install Node.js (because tweet-harvest built using Node.js)\n",
        "!sudo apt-get update\n",
        "!sudo apt-get install -y ca-certificates curl gnupg\n",
        "!sudo mkdir -p /etc/apt/keyrings\n",
        "!curl -fsSL https://deb.nodesource.com/gpgkey/nodesource-repo.gpg.key | sudo gpg --dearmor -o /etc/apt/keyrings/nodesource.gpg\n",
        "\n",
        "!NODE_MAJOR=20 && echo \"deb [signed-by=/etc/apt/keyrings/nodesource.gpg] https://deb.nodesource.com/node_$NODE_MAJOR.x nodistro main\" | sudo tee /etc/apt/sources.list.d/nodesource.list\n",
        "\n",
        "!sudo apt-get update\n",
        "!sudo apt-get install nodejs -y\n",
        "\n",
        "!node -v"
      ]
    },
    {
      "cell_type": "code",
      "source": [
        "# Crawl Data\n",
        "\n",
        "filename = 'testing.csv'\n",
        "search_keyword = 'Prabowo until:2023-09-28 since:2023-09-25'\n",
        "limit = 500\n",
        "\n",
        "!npx --yes tweet-harvest@latest -o \"{filename}\" -s \"{search_keyword}\" -l {limit} --token \"\""
      ],
      "metadata": {
        "id": "LYDR51dJlVlX",
        "colab": {
          "base_uri": "https://localhost:8080/"
        },
        "outputId": "b2bc6624-a718-4fa5-d789-badb03c1f1db"
      },
      "execution_count": null,
      "outputs": [
        {
          "output_type": "stream",
          "name": "stdout",
          "text": [
            "\u001b[1m\u001b[22m\n",
            "\u001b[1mWelcome to the Twitter Crawler 🕷️\u001b[22m\n",
            "\u001b[1m\u001b[22m\n",
            "This script uses Chromium Browser to crawl data from Twitter with *your* Twitter auth token.\n",
            "Please enter your Twitter auth token when prompted.\n",
            "\n",
            "Note: Keep your access token secret! Don't share it with anyone else.\n",
            "Note: This script only runs on your local device.\n",
            "\n",
            "\u001b[2K\u001b[1G\u001b[36m?\u001b[39m \u001b[1mWhat's your Twitter auth token?\u001b[22m \u001b[90m›\u001b[39m \u001b7\u001b8\u001b[2K\u001b[1G\u001b[2K\u001b[1G\u001b[36m?\u001b[39m \u001b[1mWhat's your Twitter auth token?\u001b[22m \u001b[90m›\u001b[39m *\u001b7\u001b8\u001b[2K\u001b[1G\u001b[2K\u001b[1G\u001b[36m?\u001b[39m \u001b[1mWhat's your Twitter auth token?\u001b[22m \u001b[90m›\u001b[39m **\u001b7\u001b8\u001b[2K\u001b[1G\u001b[2K\u001b[1G\u001b[36m?\u001b[39m \u001b[1mWhat's your Twitter auth token?\u001b[22m \u001b[90m›\u001b[39m ***\u001b7\u001b8\u001b[2K\u001b[1G\u001b[2K\u001b[1G\u001b[36m?\u001b[39m \u001b[1mWhat's your Twitter auth token?\u001b[22m \u001b[90m›\u001b[39m ****\u001b7\u001b8\u001b[2K\u001b[1G\u001b[2K\u001b[1G\u001b[36m?\u001b[39m \u001b[1mWhat's your Twitter auth token?\u001b[22m \u001b[90m›\u001b[39m *****\u001b7\u001b8\u001b[2K\u001b[1G\u001b[2K\u001b[1G\u001b[36m?\u001b[39m \u001b[1mWhat's your Twitter auth token?\u001b[22m \u001b[90m›\u001b[39m ******\u001b7\u001b8\u001b[2K\u001b[1G\u001b[2K\u001b[1G\u001b[36m?\u001b[39m \u001b[1mWhat's your Twitter auth token?\u001b[22m \u001b[90m›\u001b[39m *******\u001b7\u001b8\u001b[2K\u001b[1G\u001b[2K\u001b[1G\u001b[36m?\u001b[39m \u001b[1mWhat's your Twitter auth token?\u001b[22m \u001b[90m›\u001b[39m ********\u001b7\u001b8\u001b[2K\u001b[1G\u001b[2K\u001b[1G\u001b[36m?\u001b[39m \u001b[1mWhat's your Twitter auth token?\u001b[22m \u001b[90m›\u001b[39m *********\u001b7\u001b8\u001b[2K\u001b[1G\u001b[2K\u001b[1G\u001b[36m?\u001b[39m \u001b[1mWhat's your Twitter auth token?\u001b[22m \u001b[90m›\u001b[39m **********\u001b7\u001b8\u001b[2K\u001b[1G\u001b[2K\u001b[1G\u001b[36m?\u001b[39m \u001b[1mWhat's your Twitter auth token?\u001b[22m \u001b[90m›\u001b[39m ***********\u001b7\u001b8\u001b[2K\u001b[1G\u001b[2K\u001b[1G\u001b[36m?\u001b[39m \u001b[1mWhat's your Twitter auth token?\u001b[22m \u001b[90m›\u001b[39m ************\u001b7\u001b8\u001b[2K\u001b[1G\u001b[2K\u001b[1G\u001b[36m?\u001b[39m \u001b[1mWhat's your Twitter auth token?\u001b[22m \u001b[90m›\u001b[39m *************\u001b7\u001b8\u001b[2K\u001b[1G\u001b[2K\u001b[1G\u001b[36m?\u001b[39m \u001b[1mWhat's your Twitter auth token?\u001b[22m \u001b[90m›\u001b[39m **************\u001b7\u001b8\u001b[2K\u001b[1G\u001b[2K\u001b[1G\u001b[36m?\u001b[39m \u001b[1mWhat's your Twitter auth token?\u001b[22m \u001b[90m›\u001b[39m ***************\u001b7\u001b8\u001b[2K\u001b[1G\u001b[2K\u001b[1G\u001b[36m?\u001b[39m \u001b[1mWhat's your Twitter auth token?\u001b[22m \u001b[90m›\u001b[39m ****************\u001b7\u001b8\u001b[2K\u001b[1G\u001b[2K\u001b[1G\u001b[36m?\u001b[39m \u001b[1mWhat's your Twitter auth token?\u001b[22m \u001b[90m›\u001b[39m *****************\u001b7\u001b8\u001b[2K\u001b[1G\u001b[2K\u001b[1G\u001b[36m?\u001b[39m \u001b[1mWhat's your Twitter auth token?\u001b[22m \u001b[90m›\u001b[39m ******************\u001b7\u001b8\u001b[2K\u001b[1G\u001b[2K\u001b[1G\u001b[36m?\u001b[39m \u001b[1mWhat's your Twitter auth token?\u001b[22m \u001b[90m›\u001b[39m *******************\u001b7\u001b8\u001b[2K\u001b[1G\u001b[2K\u001b[1G\u001b[36m?\u001b[39m \u001b[1mWhat's your Twitter auth token?\u001b[22m \u001b[90m›\u001b[39m ********************\u001b7\u001b8\u001b[2K\u001b[1G\u001b[2K\u001b[1G\u001b[36m?\u001b[39m \u001b[1mWhat's your Twitter auth token?\u001b[22m \u001b[90m›\u001b[39m *********************\u001b7\u001b8\u001b[2K\u001b[1G\u001b[2K\u001b[1G\u001b[36m?\u001b[39m \u001b[1mWhat's your Twitter auth token?\u001b[22m \u001b[90m›\u001b[39m **********************\u001b7\u001b8\u001b[2K\u001b[1G\u001b[2K\u001b[1G\u001b[36m?\u001b[39m \u001b[1mWhat's your Twitter auth token?\u001b[22m \u001b[90m›\u001b[39m ***********************\u001b7\u001b8\u001b[2K\u001b[1G\u001b[2K\u001b[1G\u001b[36m?\u001b[39m \u001b[1mWhat's your Twitter auth token?\u001b[22m \u001b[90m›\u001b[39m ************************\u001b7\u001b8\u001b[2K\u001b[1G\u001b[2K\u001b[1G\u001b[36m?\u001b[39m \u001b[1mWhat's your Twitter auth token?\u001b[22m \u001b[90m›\u001b[39m *************************\u001b7\u001b8\u001b[2K\u001b[1G\u001b[2K\u001b[1G\u001b[36m?\u001b[39m \u001b[1mWhat's your Twitter auth token?\u001b[22m \u001b[90m›\u001b[39m **************************\u001b7\u001b8\u001b[2K\u001b[1G\u001b[2K\u001b[1G\u001b[36m?\u001b[39m \u001b[1mWhat's your Twitter auth token?\u001b[22m \u001b[90m›\u001b[39m ***************************\u001b7\u001b8\u001b[2K\u001b[1G\u001b[2K\u001b[1G\u001b[36m?\u001b[39m \u001b[1mWhat's your Twitter auth token?\u001b[22m \u001b[90m›\u001b[39m ****************************\u001b7\u001b8\u001b[2K\u001b[1G\u001b[2K\u001b[1G\u001b[36m?\u001b[39m \u001b[1mWhat's your Twitter auth token?\u001b[22m \u001b[90m›\u001b[39m *****************************\u001b7\u001b8\u001b[2K\u001b[1G\u001b[2K\u001b[1G\u001b[36m?\u001b[39m \u001b[1mWhat's your Twitter auth token?\u001b[22m \u001b[90m›\u001b[39m ******************************\u001b7\u001b8\u001b[2K\u001b[1G\u001b[2K\u001b[1G\u001b[36m?\u001b[39m \u001b[1mWhat's your Twitter auth token?\u001b[22m \u001b[90m›\u001b[39m *******************************\u001b7\u001b8\u001b[2K\u001b[1G\u001b[2K\u001b[1G\u001b[36m?\u001b[39m \u001b[1mWhat's your Twitter auth token?\u001b[22m \u001b[90m›\u001b[39m ********************************\u001b7\u001b8\u001b[2K\u001b[1G\u001b[2K\u001b[1G\u001b[36m?\u001b[39m \u001b[1mWhat's your Twitter auth token?\u001b[22m \u001b[90m›\u001b[39m *********************************\u001b7\u001b8\u001b[2K\u001b[1G\u001b[2K\u001b[1G\u001b[36m?\u001b[39m \u001b[1mWhat's your Twitter auth token?\u001b[22m \u001b[90m›\u001b[39m **********************************\u001b7\u001b8\u001b[2K\u001b[1G\u001b[2K\u001b[1G\u001b[36m?\u001b[39m \u001b[1mWhat's your Twitter auth token?\u001b[22m \u001b[90m›\u001b[39m ***********************************\u001b7\u001b8\u001b[2K\u001b[1G\u001b[2K\u001b[1G\u001b[36m?\u001b[39m \u001b[1mWhat's your Twitter auth token?\u001b[22m \u001b[90m›\u001b[39m ************************************\u001b7\u001b8\u001b[2K\u001b[1G\u001b[2K\u001b[1G\u001b[36m?\u001b[39m \u001b[1mWhat's your Twitter auth token?\u001b[22m \u001b[90m›\u001b[39m *************************************\u001b7\u001b8\u001b[2K\u001b[1G\u001b[2K\u001b[1G\u001b[36m?\u001b[39m \u001b[1mWhat's your Twitter auth token?\u001b[22m \u001b[90m›\u001b[39m **************************************\u001b7\u001b8\u001b[2K\u001b[1G\u001b[2K\u001b[1G\u001b[36m?\u001b[39m \u001b[1mWhat's your Twitter auth token?\u001b[22m \u001b[90m›\u001b[39m ***************************************\u001b7\u001b8\u001b[2K\u001b[1G\u001b[2K\u001b[1G\u001b[36m?\u001b[39m \u001b[1mWhat's your Twitter auth token?\u001b[22m \u001b[90m›\u001b[39m ****************************************\u001b7\u001b8\u001b[2K\u001b[1G\u001b[2K\u001b[1G\u001b[32m✔\u001b[39m \u001b[1mWhat's your Twitter auth token?\u001b[22m \u001b[90m…\u001b[39m ****************************************\u001b7\u001b8\n",
            "\u001b[K\u001b[?25h\n",
            "up to date, audited 4 packages in 998ms\n",
            "\n",
            "found \u001b[32m\u001b[1m0\u001b[22m\u001b[39m vulnerabilities\n",
            "Installing dependencies...\n",
            "Hit:1 https://cloud.r-project.org/bin/linux/ubuntu jammy-cran40/ InRelease\n",
            "Hit:2 https://developer.download.nvidia.com/compute/cuda/repos/ubuntu2204/x86_64  InRelease\n",
            "Hit:3 https://deb.nodesource.com/node_20.x nodistro InRelease\n",
            "Hit:4 http://archive.ubuntu.com/ubuntu jammy InRelease\n",
            "Hit:5 http://archive.ubuntu.com/ubuntu jammy-updates InRelease\n",
            "Hit:6 http://archive.ubuntu.com/ubuntu jammy-backports InRelease\n",
            "Hit:7 http://security.ubuntu.com/ubuntu jammy-security InRelease\n",
            "Hit:8 https://ppa.launchpadcontent.net/c2d4u.team/c2d4u4.0+/ubuntu jammy InRelease\n",
            "Hit:9 https://ppa.launchpadcontent.net/deadsnakes/ppa/ubuntu jammy InRelease\n",
            "Hit:10 https://ppa.launchpadcontent.net/graphics-drivers/ppa/ubuntu jammy InRelease\n",
            "Hit:11 https://ppa.launchpadcontent.net/ubuntugis/ppa/ubuntu jammy InRelease\n",
            "Reading package lists... Done\n",
            "Reading package lists... Done\n",
            "Building dependency tree... Done\n",
            "Reading state information... Done\n",
            "fonts-freefont-ttf is already the newest version (20120503-10build1).\n",
            "fonts-liberation is already the newest version (1:1.07.4-11).\n",
            "libasound2 is already the newest version (1.2.6.1-1ubuntu1).\n",
            "libatk-bridge2.0-0 is already the newest version (2.38.0-3).\n",
            "libatk1.0-0 is already the newest version (2.36.0-3build1).\n",
            "libatspi2.0-0 is already the newest version (2.44.0-3).\n",
            "libcairo2 is already the newest version (1.16.0-5ubuntu2).\n",
            "libfontconfig1 is already the newest version (2.13.1-4.2ubuntu5).\n",
            "libnspr4 is already the newest version (2:4.32-3build1).\n",
            "libxcb1 is already the newest version (1.14-3ubuntu3).\n",
            "libxcomposite1 is already the newest version (1:0.4.5-1build2).\n",
            "libxdamage1 is already the newest version (1:1.1.5-2build2).\n",
            "libxext6 is already the newest version (2:1.3.4-1build1).\n",
            "libxfixes3 is already the newest version (1:6.0.0-1).\n",
            "libxkbcommon0 is already the newest version (1.4.0-1).\n",
            "libxrandr2 is already the newest version (2:1.5.2-1build1).\n",
            "xfonts-scalable is already the newest version (1:1.0.3-1.2ubuntu1).\n",
            "fonts-ipafont-gothic is already the newest version (00303-21ubuntu1).\n",
            "fonts-tlwg-loma-otf is already the newest version (1:0.7.3-1).\n",
            "fonts-unifont is already the newest version (1:14.0.01-1).\n",
            "fonts-wqy-zenhei is already the newest version (0.9.45-8).\n",
            "xfonts-cyrillic is already the newest version (1:1.0.5).\n",
            "fonts-noto-color-emoji is already the newest version (2.038-0ubuntu1).\n",
            "libcups2 is already the newest version (2.4.1op1-1ubuntu4.7).\n",
            "libdbus-1-3 is already the newest version (1.12.20-2ubuntu4.1).\n",
            "libdrm2 is already the newest version (2.4.113-2~ubuntu0.22.04.1).\n",
            "libfreetype6 is already the newest version (2.11.1+dfsg-1ubuntu0.2).\n",
            "libgbm1 is already the newest version (23.0.4-0ubuntu1~22.04.1).\n",
            "libglib2.0-0 is already the newest version (2.72.4-0ubuntu2.2).\n",
            "libnss3 is already the newest version (2:3.68.2-0ubuntu1.2).\n",
            "libpango-1.0-0 is already the newest version (1.50.6+ds-2ubuntu1).\n",
            "libwayland-client0 is already the newest version (1.20.0-1ubuntu0.1).\n",
            "libx11-6 is already the newest version (2:1.7.5-1ubuntu0.3).\n",
            "xvfb is already the newest version (2:21.1.4-2ubuntu1.7~22.04.2).\n",
            "0 upgraded, 0 newly installed, 0 to remove and 20 not upgraded.\n",
            "\u001b[34m\u001b[39m\n",
            "\u001b[34mOpening twitter search page...\u001b[39m\n",
            "\u001b[34m\u001b[39m\n",
            "\u001b[34m\u001b[39m\n",
            "\u001b[34mFound existing file ./tweets-data/testing.csv, renaming to ./tweets-data/testing.old.csv\u001b[39m\n",
            "\u001b[33m\u001b[39m\n",
            "\u001b[33mFilling in keywords: Prabowo until:2023-09-28 since:2023-09-25\u001b[39m\n",
            "\u001b[33m\u001b[39m\n",
            "\u001b[34m\u001b[39m\n",
            "\u001b[34mGot some tweets, saving to file...\u001b[39m\n",
            "\u001b[34mYour tweets saved to: /content/tweets-data/testing.csv\u001b[39m\n",
            "\u001b[33mTotal tweets saved: 15\u001b[39m\n",
            "\u001b[34m\u001b[39m\n",
            "\u001b[34mGot some tweets, saving to file...\u001b[39m\n",
            "\u001b[34mYour tweets saved to: /content/tweets-data/testing.csv\u001b[39m\n",
            "\u001b[33mTotal tweets saved: 27\u001b[39m\n",
            "\u001b[34m\u001b[39m\n",
            "\u001b[34mGot some tweets, saving to file...\u001b[39m\n",
            "\u001b[34mYour tweets saved to: /content/tweets-data/testing.csv\u001b[39m\n",
            "\u001b[33mTotal tweets saved: 39\u001b[39m\n",
            "\u001b[34m\u001b[39m\n",
            "\u001b[34mGot some tweets, saving to file...\u001b[39m\n",
            "\u001b[34mYour tweets saved to: /content/tweets-data/testing.csv\u001b[39m\n",
            "\u001b[33mTotal tweets saved: 57\u001b[39m\n",
            "\u001b[34m\u001b[39m\n",
            "\u001b[34mGot some tweets, saving to file...\u001b[39m\n",
            "\u001b[34mYour tweets saved to: /content/tweets-data/testing.csv\u001b[39m\n",
            "\u001b[33mTotal tweets saved: 73\u001b[39m\n",
            "\u001b[34m\u001b[39m\n",
            "\u001b[34mGot some tweets, saving to file...\u001b[39m\n",
            "\u001b[34mYour tweets saved to: /content/tweets-data/testing.csv\u001b[39m\n",
            "\u001b[33mTotal tweets saved: 91\u001b[39m\n",
            "\u001b[34m\u001b[39m\n",
            "\u001b[34mGot some tweets, saving to file...\u001b[39m\n",
            "\u001b[34mYour tweets saved to: /content/tweets-data/testing.csv\u001b[39m\n",
            "\u001b[33mTotal tweets saved: 107\u001b[39m\n",
            "\u001b[90m\u001b[39m\n",
            "\u001b[90m--Taking a break, waiting for 10 seconds...\u001b[39m\n",
            "\u001b[34m\u001b[39m\n",
            "\u001b[34mGot some tweets, saving to file...\u001b[39m\n",
            "\u001b[34mYour tweets saved to: /content/tweets-data/testing.csv\u001b[39m\n",
            "\u001b[33mTotal tweets saved: 123\u001b[39m\n",
            "\u001b[34m\u001b[39m\n",
            "\u001b[34mGot some tweets, saving to file...\u001b[39m\n",
            "\u001b[34mYour tweets saved to: /content/tweets-data/testing.csv\u001b[39m\n",
            "\u001b[33mTotal tweets saved: 137\u001b[39m\n",
            "\u001b[34m\u001b[39m\n",
            "\u001b[34mGot some tweets, saving to file...\u001b[39m\n",
            "\u001b[34mYour tweets saved to: /content/tweets-data/testing.csv\u001b[39m\n",
            "\u001b[33mTotal tweets saved: 149\u001b[39m\n",
            "\u001b[34m\u001b[39m\n",
            "\u001b[34mGot some tweets, saving to file...\u001b[39m\n",
            "\u001b[34mYour tweets saved to: /content/tweets-data/testing.csv\u001b[39m\n",
            "\u001b[33mTotal tweets saved: 161\u001b[39m\n",
            "\u001b[34m\u001b[39m\n",
            "\u001b[34mGot some tweets, saving to file...\u001b[39m\n",
            "\u001b[34mYour tweets saved to: /content/tweets-data/testing.csv\u001b[39m\n",
            "\u001b[33mTotal tweets saved: 174\u001b[39m\n",
            "\u001b[34m\u001b[39m\n",
            "\u001b[34mGot some tweets, saving to file...\u001b[39m\n",
            "\u001b[34mYour tweets saved to: /content/tweets-data/testing.csv\u001b[39m\n",
            "\u001b[33mTotal tweets saved: 191\u001b[39m\n",
            "\u001b[34m\u001b[39m\n",
            "\u001b[34mGot some tweets, saving to file...\u001b[39m\n",
            "\u001b[34mYour tweets saved to: /content/tweets-data/testing.csv\u001b[39m\n",
            "\u001b[33mTotal tweets saved: 211\u001b[39m\n",
            "\u001b[90m\u001b[39m\n",
            "\u001b[90m--Taking a break, waiting for 10 seconds...\u001b[39m\n",
            "\u001b[34m\u001b[39m\n",
            "\u001b[34mGot some tweets, saving to file...\u001b[39m\n",
            "\u001b[34mYour tweets saved to: /content/tweets-data/testing.csv\u001b[39m\n",
            "\u001b[33mTotal tweets saved: 229\u001b[39m\n",
            "\u001b[34m\u001b[39m\n",
            "\u001b[34mGot some tweets, saving to file...\u001b[39m\n",
            "\u001b[34mYour tweets saved to: /content/tweets-data/testing.csv\u001b[39m\n",
            "\u001b[33mTotal tweets saved: 243\u001b[39m\n",
            "\u001b[34m\u001b[39m\n",
            "\u001b[34mGot some tweets, saving to file...\u001b[39m\n",
            "\u001b[34mYour tweets saved to: /content/tweets-data/testing.csv\u001b[39m\n",
            "\u001b[33mTotal tweets saved: 256\u001b[39m\n",
            "\u001b[34m\u001b[39m\n",
            "\u001b[34mGot some tweets, saving to file...\u001b[39m\n",
            "\u001b[34mYour tweets saved to: /content/tweets-data/testing.csv\u001b[39m\n",
            "\u001b[33mTotal tweets saved: 266\u001b[39m\n",
            "\u001b[34m\u001b[39m\n",
            "\u001b[34mGot some tweets, saving to file...\u001b[39m\n",
            "\u001b[34mYour tweets saved to: /content/tweets-data/testing.csv\u001b[39m\n",
            "\u001b[33mTotal tweets saved: 284\u001b[39m\n",
            "\u001b[90mScrolling more...\u001b[39m\n",
            "\u001b[34m\u001b[39m\n",
            "\u001b[34mGot some tweets, saving to file...\u001b[39m\n",
            "\u001b[34mYour tweets saved to: /content/tweets-data/testing.csv\u001b[39m\n",
            "\u001b[33mTotal tweets saved: 295\u001b[39m\n",
            "\u001b[34m\u001b[39m\n",
            "\u001b[34mGot some tweets, saving to file...\u001b[39m\n",
            "\u001b[34mYour tweets saved to: /content/tweets-data/testing.csv\u001b[39m\n",
            "\u001b[33mTotal tweets saved: 310\u001b[39m\n",
            "\u001b[34m\u001b[39m\n",
            "\u001b[34mGot some tweets, saving to file...\u001b[39m\n",
            "\u001b[34mYour tweets saved to: /content/tweets-data/testing.csv\u001b[39m\n",
            "\u001b[33mTotal tweets saved: 324\u001b[39m\n",
            "\u001b[90m\u001b[39m\n",
            "\u001b[90m--Taking a break, waiting for 10 seconds...\u001b[39m\n",
            "\u001b[34m\u001b[39m\n",
            "\u001b[34mGot some tweets, saving to file...\u001b[39m\n",
            "\u001b[34mYour tweets saved to: /content/tweets-data/testing.csv\u001b[39m\n",
            "\u001b[33mTotal tweets saved: 340\u001b[39m\n",
            "\u001b[90mScrolling more...\u001b[39m\n",
            "\u001b[34m\u001b[39m\n",
            "\u001b[34mGot some tweets, saving to file...\u001b[39m\n",
            "\u001b[34mYour tweets saved to: /content/tweets-data/testing.csv\u001b[39m\n",
            "\u001b[33mTotal tweets saved: 349\u001b[39m\n",
            "\u001b[34m\u001b[39m\n",
            "\u001b[34mGot some tweets, saving to file...\u001b[39m\n",
            "\u001b[34mYour tweets saved to: /content/tweets-data/testing.csv\u001b[39m\n",
            "\u001b[33mTotal tweets saved: 357\u001b[39m\n",
            "\u001b[34m\u001b[39m\n",
            "\u001b[34mGot some tweets, saving to file...\u001b[39m\n",
            "\u001b[34mYour tweets saved to: /content/tweets-data/testing.csv\u001b[39m\n",
            "\u001b[33mTotal tweets saved: 372\u001b[39m\n",
            "\u001b[34m\u001b[39m\n",
            "\u001b[34mGot some tweets, saving to file...\u001b[39m\n",
            "\u001b[34mYour tweets saved to: /content/tweets-data/testing.csv\u001b[39m\n",
            "\u001b[33mTotal tweets saved: 391\u001b[39m\n",
            "\u001b[34m\u001b[39m\n",
            "\u001b[34mGot some tweets, saving to file...\u001b[39m\n",
            "\u001b[34mYour tweets saved to: /content/tweets-data/testing.csv\u001b[39m\n",
            "\u001b[33mTotal tweets saved: 410\u001b[39m\n",
            "\u001b[34m\u001b[39m\n",
            "\u001b[34mGot some tweets, saving to file...\u001b[39m\n",
            "\u001b[34mYour tweets saved to: /content/tweets-data/testing.csv\u001b[39m\n",
            "\u001b[33mTotal tweets saved: 428\u001b[39m\n",
            "\u001b[90m\u001b[39m\n",
            "\u001b[90m--Taking a break, waiting for 10 seconds...\u001b[39m\n",
            "\u001b[34m\u001b[39m\n",
            "\u001b[34mGot some tweets, saving to file...\u001b[39m\n",
            "\u001b[34mYour tweets saved to: /content/tweets-data/testing.csv\u001b[39m\n",
            "\u001b[33mTotal tweets saved: 445\u001b[39m\n",
            "\u001b[34m\u001b[39m\n",
            "\u001b[34mGot some tweets, saving to file...\u001b[39m\n",
            "\u001b[34mYour tweets saved to: /content/tweets-data/testing.csv\u001b[39m\n",
            "\u001b[33mTotal tweets saved: 464\u001b[39m\n",
            "\u001b[34m\u001b[39m\n",
            "\u001b[34mGot some tweets, saving to file...\u001b[39m\n",
            "\u001b[34mYour tweets saved to: /content/tweets-data/testing.csv\u001b[39m\n",
            "\u001b[33mTotal tweets saved: 481\u001b[39m\n",
            "\u001b[34m\u001b[39m\n",
            "\u001b[34mGot some tweets, saving to file...\u001b[39m\n",
            "\u001b[34mYour tweets saved to: /content/tweets-data/testing.csv\u001b[39m\n",
            "\u001b[33mTotal tweets saved: 491\u001b[39m\n",
            "\u001b[34m\u001b[39m\n",
            "\u001b[34mGot some tweets, saving to file...\u001b[39m\n",
            "\u001b[34mYour tweets saved to: /content/tweets-data/testing.csv\u001b[39m\n",
            "\u001b[33mTotal tweets saved: 510\u001b[39m\n",
            "Already got 510 tweets, done scrolling...\n"
          ]
        }
      ]
    },
    {
      "cell_type": "code",
      "execution_count": null,
      "metadata": {
        "collapsed": true,
        "id": "HvAG3hPvQDqk",
        "colab": {
          "base_uri": "https://localhost:8080/",
          "height": 418
        },
        "outputId": "30f99c53-dee5-43ba-ecc2-c5583270ecd8"
      },
      "outputs": [
        {
          "output_type": "display_data",
          "data": {
            "text/plain": [
              "0                                                                                                                                                           Emang mau Prabowo Cawapres...?? Cuma tanya jangan Baper lhoo yaa 😂😅😁\n",
              "1                                                                                                                                     @AK__aja Terus nanti kalo capres dukunganmu menang, akan melakukan apa dengan pak Prabowo?\n",
              "2                                                                                                                                                                     @gus_dibyo @cakimiNOW Halo Bapak Prabowo monitor monitor 😆\n",
              "3      @binakurniawan73 @djalanjoeang @Alie_Fahnoor @Ndons_Back @PaPa_Bowo2024 @are_inismyname @AndreasSolusi @B_Hendratmo1 @PS_presiden2024 @bengkeldodo @TLPS08 @prabowo @Bank_Joee_ @UMMcampus @Kemhan_RI Semakin #Prabowo 😍😍\n",
              "4                                                                                                                           @conan_idn @AK__aja Kalau gitu masa kini: Prabowo sekarang sudah tua dan pernah terserang stroke\" .\"\n",
              "                                                                                                                 ...                                                                                                            \n",
              "505                             @Fahrihamzah Petugas partai . Pembenci rakyat . Kalo kowar2 paling keras tp ada maksud apa ? P.prabowo bisnisnya tdk jalan krn tdk berkuasa selama 20 th. Makanya maudibantu agar bisnisnya jln.\n",
              "506                                                     @yunartowijaya @Fahrihamzah Geli gak @gibran_tweet dijilat sama @prabowo ??   Kalau Si @Fahrihamzah udah biasa menjilat.. bersama Fadli Zon. Makanya bibir mereka dower.\n",
              "507                                                                                                                                                                       Jokowi dgn Jan Ethes Prabowo dgn Bobby Ganjar dgn Alam\n",
              "508                                                                                          @Dikdok_82 @AndisBoga @yusuf_dumdum @jokowi Jgn mimpi Jokowi ke Prabowo,  mna mngkin Jokowi dukung orang yg tdk becus kerja,  🤣🤣🤣🤣🤣\n",
              "509                                      @are_inismyname @prabowo @Gerindra @cuitcuap_ @PaPa_Bowo2024 @bengkeldodo @BANGSAygSUJUD @KhoirilAnwar_ @florieliciouss @Ndons_Back @Minietweets_ gak ah wis tue dan suka joget dadakan\n",
              "Name: full_text, Length: 510, dtype: object"
            ]
          },
          "metadata": {}
        }
      ],
      "source": [
        "import pandas as pd\n",
        "\n",
        "# Specify the path to your CSV file\n",
        "file_path = f\"tweets-data/{filename}\"\n",
        "pd.set_option('display.max_colwidth', None)\n",
        "\n",
        "# Read the CSV file into a pandas DataFrame\n",
        "df = pd.read_csv(file_path, delimiter=\";\")\n",
        "df = df['full_text']\n",
        "# Display the DataFrame\n",
        "display(df)"
      ]
    },
    {
      "cell_type": "code",
      "source": [
        "df.to_csv('Prabowo10.csv', index=False,header=True)"
      ],
      "metadata": {
        "id": "M615luvM3DGx"
      },
      "execution_count": null,
      "outputs": []
    },
    {
      "cell_type": "markdown",
      "source": [
        "\n",
        "\n",
        "```\n",
        "# This is formatted as code\n",
        "```\n",
        "\n"
      ],
      "metadata": {
        "id": "jhR487toQQoU"
      }
    },
    {
      "cell_type": "markdown",
      "source": [],
      "metadata": {
        "id": "lAPlQ7H3QQgV"
      }
    },
    {
      "cell_type": "code",
      "execution_count": null,
      "metadata": {
        "id": "eRfDl54waHC4",
        "colab": {
          "base_uri": "https://localhost:8080/"
        },
        "outputId": "1fbd9659-bc27-4696-9f3a-315f14149ce2"
      },
      "outputs": [
        {
          "output_type": "stream",
          "name": "stdout",
          "text": [
            "Jumlah tweet dalam dataframe adalah 51.\n"
          ]
        }
      ],
      "source": [
        "# Cek jumlah data yang didapatkan\n",
        "\n",
        "\n",
        "num_tweets = len(df)\n",
        "print(f\"Jumlah tweet dalam dataframe adalah {num_tweets}.\")"
      ]
    }
  ],
  "metadata": {
    "colab": {
      "provenance": []
    },
    "kernelspec": {
      "display_name": "Python 3",
      "name": "python3"
    },
    "language_info": {
      "name": "python"
    }
  },
  "nbformat": 4,
  "nbformat_minor": 0
}